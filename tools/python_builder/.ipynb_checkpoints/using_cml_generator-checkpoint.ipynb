{
 "cells": [
  {
   "cell_type": "code",
   "execution_count": 1,
   "metadata": {},
   "outputs": [],
   "source": [
    "from cmlmaker import *"
   ]
  },
  {
   "cell_type": "code",
   "execution_count": 3,
   "metadata": {},
   "outputs": [
    {
     "data": {
      "text/plain": [
       "['tmp_ops_cats.txt',\n",
       " 'tools',\n",
       " 'LICENSE',\n",
       " 'tests',\n",
       " 'versions',\n",
       " '.whitesource',\n",
       " 'README.md',\n",
       " 'current.txt',\n",
       " '.gitignore',\n",
       " '.git',\n",
       " 'demos']"
      ]
     },
     "execution_count": 3,
     "metadata": {},
     "output_type": "execute_result"
    }
   ],
   "source": [
    "import os\n",
    "os.getcwd()\n",
    "os.listdir(\"../../\")"
   ]
  },
  {
   "cell_type": "code",
   "execution_count": 9,
   "metadata": {},
   "outputs": [
    {
     "name": "stdout",
     "output_type": "stream",
     "text": [
      "[paragraph, n, n2]\n",
      "Help on class inputs in module cmlmaker:\n",
      "\n",
      "class inputs(builtins.object)\n",
      " |  inputs's possible keys:\n",
      " |          data - data to get mean of\n",
      " |  \n",
      " |  Methods defined here:\n",
      " |  \n",
      " |  __init__(self, data=None)\n",
      " |      initializing inputs\n",
      " |  \n",
      " |  make_map(self)\n",
      " |      method to convert data into a map for later printing\n",
      " |  \n",
      " |  ----------------------------------------------------------------------\n",
      " |  Data descriptors defined here:\n",
      " |  \n",
      " |  __dict__\n",
      " |      dictionary for instance variables (if defined)\n",
      " |  \n",
      " |  __weakref__\n",
      " |      list of weak references to the object (if defined)\n",
      "\n",
      "Help on class params in module cmlmaker:\n",
      "\n",
      "class params(builtins.object)\n",
      " |  params's possible keys:\n",
      " |          axis - which axis to use, 0 (horizontal) is default\n",
      " |  \n",
      " |  Methods defined here:\n",
      " |  \n",
      " |  __init__(self, axis=None)\n",
      " |      initializing params\n",
      " |  \n",
      " |  make_map(self)\n",
      " |      method to convert data into a map for later printing\n",
      " |  \n",
      " |  ----------------------------------------------------------------------\n",
      " |  Data descriptors defined here:\n",
      " |  \n",
      " |  __dict__\n",
      " |      dictionary for instance variables (if defined)\n",
      " |  \n",
      " |  __weakref__\n",
      " |      list of weak references to the object (if defined)\n",
      "\n",
      "{\"name\": \"test\", \"description\": \"testing the structure class\", \"version\": \"0.0.0\", \"createdDate\": \"20191104\", \"input\": [{\"type\": \"string\", \"label\": \"paragraph\"}], \"structure\": [{\"operation\": \"norm\", \"input\": {\"data\": \"$paragraph\"}, \"params\": {\"axis\": 1}, \"output\": \"n\"}, {\"operation\": \"norm\", \"input\": {\"data\": \"$n\"}, \"output\": \"n2\"}, {\"operation\": \"normalize\", \"input\": {\"data\": \"$n\", \"value\": 7.6}, \"output\": \"normalize3\"}, {\"operation\": \"scale\", \"input\": {\"data\": \"$paragraph\", \"scaler\": 7.6}, \"output\": \"scaler4\"}, {\"operation\": \"mean\", \"input\": {\"data\": \"$normalize3\"}, \"params\": {\"axis\": 1}, \"output\": \"mean5\"}], \"output\": {\"type\": \"map\", \"data\": {\"Out\": \"$n2\"}}}\n",
      "\n",
      "\n",
      "[paragraph, n, n2, normalize3, scaler4, mean5]\n"
     ]
    }
   ],
   "source": [
    "#creating a base structure with name/description\n",
    "cml=structure(\"test\",\"testing the structure class\")\n",
    "\n",
    "cml=cml.addInput(inpobj(\"string\",\"paragraph\"))\n",
    "cml=cml.addOps(ops.math.norm(norm.inputs(\"$paragraph\"),norm.params(1),output=\"n\"))\n",
    "cml=cml.addOps(ops.math.norm(norm.inputs(\"$n\"),output=\"n2\"))\n",
    "cml=cml.addOps(ops.math.normalize(normalize.inputs(\"$n\",7.6),output=\"normalize3\"))\n",
    "cml=cml.addOps(ops.math.scale(scale.inputs(\"$paragraph\",7.6),output=\"scaler4\"))\n",
    "cml=cml.addOps(ops.math.mean(mean.inputs(\"$normalize3\"),mean.params(1),output=\"mean5\"))\n",
    "help(mean.inputs)\n",
    "help(mean.params)\n",
    "cml=cml.addOutput(outobj(\"map\",{\"Out\":\"$n2\"}))\n",
    "\n",
    "#printing json and list of vars used\n",
    "print(cml)\n",
    "print(\"\\n\")\n",
    "print(cml.listVars())"
   ]
  },
  {
   "cell_type": "code",
   "execution_count": 3,
   "metadata": {},
   "outputs": [
    {
     "name": "stdout",
     "output_type": "stream",
     "text": [
      "Help on class structure in module cmlmaker:\n",
      "\n",
      "class structure(builtins.object)\n",
      " |  Object that holds (and builds) a cml class\n",
      " |  \n",
      " |  Methods defined here:\n",
      " |  \n",
      " |  __init__(self, name='name', description='description', version='0.0.0', createdDate=datetime.datetime(2019, 11, 4, 11, 3, 34, 341490))\n",
      " |      Initialize self.  See help(type(self)) for accurate signature.\n",
      " |  \n",
      " |  __repr__(self)\n",
      " |      Return repr(self).\n",
      " |  \n",
      " |  addInput(self, inpobj)\n",
      " |  \n",
      " |  addOps(self, ops, order=-1)\n",
      " |  \n",
      " |  addOutput(self, outobj)\n",
      " |  \n",
      " |  listVars(self)\n",
      " |  \n",
      " |  make_map(self)\n",
      " |  \n",
      " |  ----------------------------------------------------------------------\n",
      " |  Data descriptors defined here:\n",
      " |  \n",
      " |  __dict__\n",
      " |      dictionary for instance variables (if defined)\n",
      " |  \n",
      " |  __weakref__\n",
      " |      list of weak references to the object (if defined)\n",
      "\n"
     ]
    }
   ],
   "source": [
    "help(structure)"
   ]
  },
  {
   "cell_type": "code",
   "execution_count": 4,
   "metadata": {},
   "outputs": [
    {
     "name": "stdout",
     "output_type": "stream",
     "text": [
      "Help on class reshape in module cmlmaker:\n",
      "\n",
      "class reshape(operation)\n",
      " |  change the dimensionality of a matrix without changing the underlying data\n",
      " |  \n",
      " |  Method resolution order:\n",
      " |      reshape\n",
      " |      operation\n",
      " |      builtins.object\n",
      " |  \n",
      " |  Methods defined here:\n",
      " |  \n",
      " |  __init__(self, inputs=None, params=None, output=None)\n",
      " |      Initialize reshape operation and define inputs, parameters, and outputs\n",
      " |  \n",
      " |  ----------------------------------------------------------------------\n",
      " |  Data and other attributes defined here:\n",
      " |  \n",
      " |  inputs = <class 'cmlmaker.reshape.inputs'>\n",
      " |      inputs's possible keys:\n",
      " |              data - data to be reshaped\n",
      " |              shape - array of integers where: 1) length of array  number of  output dimensions and 2) each integer specifies the number of values for a given dimension.  If the integer is -1 that dimension is sized to fit the data. i.e. [-1,2,3] for a 24 value array means a 4x2x3 matrix\n",
      " |  \n",
      " |  ----------------------------------------------------------------------\n",
      " |  Methods inherited from operation:\n",
      " |  \n",
      " |  __repr__(self)\n",
      " |      Return repr(self).\n",
      " |  \n",
      " |  make_map(self)\n",
      " |  \n",
      " |  ----------------------------------------------------------------------\n",
      " |  Data descriptors inherited from operation:\n",
      " |  \n",
      " |  __dict__\n",
      " |      dictionary for instance variables (if defined)\n",
      " |  \n",
      " |  __weakref__\n",
      " |      list of weak references to the object (if defined)\n",
      " |  \n",
      " |  ----------------------------------------------------------------------\n",
      " |  Data and other attributes inherited from operation:\n",
      " |  \n",
      " |  operation = None\n",
      " |  \n",
      " |  params = <class 'cmlmaker.operation.params'>\n",
      "\n"
     ]
    }
   ],
   "source": [
    "help(reshape)"
   ]
  },
  {
   "cell_type": "code",
   "execution_count": 5,
   "metadata": {},
   "outputs": [
    {
     "name": "stdout",
     "output_type": "stream",
     "text": [
      "Help on class normalize in module cmlmaker:\n",
      "\n",
      "class normalize(normalize)\n",
      " |  divide all values of array by value (i.e. x/value), if minvalue is given applies (x-minval)/(value-minvalue) where x is the data\n",
      " |  \n",
      " |  Method resolution order:\n",
      " |      normalize\n",
      " |      normalize\n",
      " |      operation\n",
      " |      builtins.object\n",
      " |  \n",
      " |  Methods defined here:\n",
      " |  \n",
      " |  __init__(self, inputs=None, params=None, output=None)\n",
      " |      Initialize normalize operation and define inputs, parameters, and outputs\n",
      " |  \n",
      " |  ----------------------------------------------------------------------\n",
      " |  Data and other attributes inherited from normalize:\n",
      " |  \n",
      " |  inputs = <class 'cmlmaker.normalize.inputs'>\n",
      " |      inputs's possible keys:\n",
      " |              data - data to get mean of\n",
      " |              value - value to normalize with (if starting at 0)\n",
      " |              minval - min value to start normalize with (if not starting at 0)\n",
      " |  \n",
      " |  ----------------------------------------------------------------------\n",
      " |  Methods inherited from operation:\n",
      " |  \n",
      " |  __repr__(self)\n",
      " |      Return repr(self).\n",
      " |  \n",
      " |  make_map(self)\n",
      " |  \n",
      " |  ----------------------------------------------------------------------\n",
      " |  Data descriptors inherited from operation:\n",
      " |  \n",
      " |  __dict__\n",
      " |      dictionary for instance variables (if defined)\n",
      " |  \n",
      " |  __weakref__\n",
      " |      list of weak references to the object (if defined)\n",
      " |  \n",
      " |  ----------------------------------------------------------------------\n",
      " |  Data and other attributes inherited from operation:\n",
      " |  \n",
      " |  operation = None\n",
      " |  \n",
      " |  params = <class 'cmlmaker.operation.params'>\n",
      "\n"
     ]
    }
   ],
   "source": [
    "help(ops.math.normalize)"
   ]
  },
  {
   "cell_type": "code",
   "execution_count": 6,
   "metadata": {},
   "outputs": [],
   "source": [
    "cml=structure(name=\"test2\",description=\"blah\")\n",
    "cml=cml.addInput(inpobj(\"string\",\"knife\"))\n",
    "cml=cml.addOutput(outobj(\"string\",\"$out\"))"
   ]
  },
  {
   "cell_type": "code",
   "execution_count": 7,
   "metadata": {},
   "outputs": [
    {
     "name": "stdout",
     "output_type": "stream",
     "text": [
      "{\"name\": \"test2\", \"description\": \"blah\", \"version\": \"0.0.0\", \"createdDate\": \"20191104\", \"input\": [{\"type\": \"string\", \"label\": \"knife\"}], \"structure\": [], \"output\": {\"type\": \"string\", \"data\": \"$out\"}}\n"
     ]
    }
   ],
   "source": [
    "print(cml)"
   ]
  },
  {
   "cell_type": "code",
   "execution_count": 8,
   "metadata": {},
   "outputs": [
    {
     "name": "stdout",
     "output_type": "stream",
     "text": [
      "Help on class outobj in module cmlmaker:\n",
      "\n",
      "class outobj(builtins.object)\n",
      " |  the structure of an input object has type,data\n",
      " |  type (1st) and data (2nd) are required\n",
      " |  \n",
      " |  Methods defined here:\n",
      " |  \n",
      " |  __init__(self, typ, data)\n",
      " |      Initialize self.  See help(type(self)) for accurate signature.\n",
      " |  \n",
      " |  make_map(self)\n",
      " |  \n",
      " |  ----------------------------------------------------------------------\n",
      " |  Data descriptors defined here:\n",
      " |  \n",
      " |  __dict__\n",
      " |      dictionary for instance variables (if defined)\n",
      " |  \n",
      " |  __weakref__\n",
      " |      list of weak references to the object (if defined)\n",
      "\n"
     ]
    }
   ],
   "source": [
    "help(outobj)"
   ]
  },
  {
   "cell_type": "code",
   "execution_count": null,
   "metadata": {},
   "outputs": [],
   "source": []
  }
 ],
 "metadata": {
  "kernelspec": {
   "display_name": "Python 3",
   "language": "python",
   "name": "python3"
  },
  "language_info": {
   "codemirror_mode": {
    "name": "ipython",
    "version": 3
   },
   "file_extension": ".py",
   "mimetype": "text/x-python",
   "name": "python",
   "nbconvert_exporter": "python",
   "pygments_lexer": "ipython3",
   "version": "3.6.8"
  }
 },
 "nbformat": 4,
 "nbformat_minor": 2
}
