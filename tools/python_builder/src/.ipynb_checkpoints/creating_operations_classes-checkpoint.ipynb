{
 "cells": [
  {
   "cell_type": "code",
   "execution_count": 1,
   "metadata": {},
   "outputs": [],
   "source": [
    "import json\n",
    "import os"
   ]
  },
  {
   "cell_type": "code",
   "execution_count": 2,
   "metadata": {},
   "outputs": [],
   "source": [
    "opdir=\"../operator_jsons/\"\n",
    "filenameoutput=\"opsclasses.py\""
   ]
  },
  {
   "cell_type": "code",
   "execution_count": 3,
   "metadata": {},
   "outputs": [],
   "source": [
    "def create_class(m,fout):\n",
    "    op=m['title']\n",
    "    opdesc=m['desc']\n",
    "    inplist=[inp['name'] for inp in m['input']] if 'input'  in m else []\n",
    "    parlist=[par['name'] for par in m['params']] if 'params' in m else []\n",
    "    eqls=lambda x:x+'=None'\n",
    "    \n",
    "    fout.write(f\"class {op}(operation):\\n\")\n",
    "    fout.write('\\t\"\"\"\\n')\n",
    "    fout.write(f'\\t{opdesc}\\n')\n",
    "    fout.write('\\t\"\"\"\\n')\n",
    "    def create_innerclass(name,m,mapkey):\n",
    "        l=m[mapkey]\n",
    "        fout.write(f'\\tclass {name}:\\n')\n",
    "        fout.write('\\t\\t\"\"\"\\n')\n",
    "        #print(l)\n",
    "        fout.write(f\"\\t\\t{name}'s possible keys:\\n\")\n",
    "        for  p in m[mapkey]:\n",
    "            s=f\"\\t\\t\\t{p['name']} - {p['description']}\\n\"\n",
    "            fout.write(s)\n",
    "        fout.write('\\t\\t\"\"\"\\n')\n",
    "        fout.write(f'\\t\\tdef __init__(self,{\",\".join(eqls(x[\"name\"]) for x in l)}):\\n')\n",
    "        fout.write('\\t\\t\\t\"\"\"\\n')\n",
    "        fout.write(f'\\t\\t\\tinitializing {name}\\n')\n",
    "        fout.write('\\t\\t\\t\"\"\"\\n')\n",
    "        for  p in m[mapkey]:\n",
    "            s=f\"\\t\\t\\tself.{p['name']}={p['name']}\\n\"\n",
    "            fout.write(s)\n",
    "        fout.write(f'\\t\\tdef make_map(self):\\n')\n",
    "        fout.write('\\t\\t\\t\"\"\"\\n')\n",
    "        fout.write('\\t\\t\\tmethod to convert data into a map for later printing\\n')\n",
    "        fout.write('\\t\\t\\t\"\"\"\\n')\n",
    "        fout.write('\\t\\t\\tm={}\\n')\n",
    "        for p in m[mapkey]:\n",
    "            if p['optional']==True:\n",
    "                s=f\"\\t\\t\\tif self.{p['name']}!=None:m['{p['name']}']=self.{p['name']}\\n\"\n",
    "            else:\n",
    "                s=f\"\\t\\t\\tm['{p['name']}']=self.{p['name']}\\n\"\n",
    "            fout.write(s)\n",
    "        fout.write(\"\\t\\t\\treturn m\\n\")\n",
    "    if 'input' in m and len(m['input'])>=1:create_innerclass(\"inputs\",m,\"input\")\n",
    "    if 'params' in m and len(m['params'])>=1: create_innerclass(\"params\",m,\"params\")\n",
    "\n",
    "    fout.write(\"\\tdef __init__(self,inputs=None,params=None,output=None):\\n\")\n",
    "    fout.write(f'\\t\\t\"\"\" Initialize {op} operation and define inputs, parameters, and outputs\"\"\"\\n')\n",
    "    fout.write(f'\\t\\tself.operation=\"{op}\"\\n')\n",
    "    fout.write('\\t\\toperation.__init__(self,inputs=inputs,params=params,output=output,operation=self.operation)\\n\\n\\n')"
   ]
  },
  {
   "cell_type": "code",
   "execution_count": 4,
   "metadata": {},
   "outputs": [],
   "source": [
    "def make_ops_class(opdir,fout):\n",
    "    fout.write(\"class ops:\\n\")\n",
    "    for d in os.listdir(opdir):\n",
    "        fout.write(f\"\\tclass {d}:\\n\")\n",
    "        fout.write('\\t\\t\"\"\"\\n')\n",
    "        fout.write(f'\\t\\t{catdescs[d]}\\n')\n",
    "        fout.write('\\t\\t\"\"\"\\n')\n",
    "        for f in os.listdir(opdir+d):\n",
    "            o=f.split(\".\")[0]\n",
    "            s=f\"\\t\\tclass {o}({o}):\\n\"\n",
    "            fout.write(s)\n",
    "            fout.write(\"\\t\\t\\tdef __init__(self,inputs=None,params=None,output=None):\\n\")\n",
    "            fout.write(f\"\\t\\t\\t\\t{o}.__init__(self,inputs=inputs,params=params,output=output)\\n\")"
   ]
  },
  {
   "cell_type": "code",
   "execution_count": 5,
   "metadata": {},
   "outputs": [],
   "source": [
    "catdescs={}\n",
    "catdescs[\"math\"]=\"Math based operations\"\n",
    "catdescs[\"cleaning\"]='Operations that fall best under data cleaning'\n",
    "catdescs[\"restructuring\"]='Operations that restructure data (pivot, join, etc.)'\n",
    "catdescs[\"string_processing\"]='Operations that act on strings'\n",
    "catdescs[\"nlp\"]='Natural Language Processing(NLP) related operations'\n",
    "catdescs[\"image_processing\"]='Image processing related operations'\n",
    "catdescs[\"utils\"]='Misc. Operations'"
   ]
  },
  {
   "cell_type": "code",
   "execution_count": 6,
   "metadata": {},
   "outputs": [
    {
     "name": "stdout",
     "output_type": "stream",
     "text": [
      "done\n"
     ]
    }
   ],
   "source": [
    "\n",
    "ops=[]\n",
    "for d in os.listdir(opdir):\n",
    "    for f in os.listdir(opdir+d):\n",
    "        path=f\"{opdir}/{d}/{f}\"\n",
    "        ops.append(path)\n",
    "\n",
    "#print([o.split(\"/\")[-1] for o in ops])\n",
    "fout = open(filenameoutput, \"w\")\n",
    "        \n",
    "for fname in ops:\n",
    "    fn=fname\n",
    "    if fn:\n",
    "        with open(fn,\"r\") as f:\n",
    "            #print(fn.split(\"/\")[-1])\n",
    "            m=json.load(f)\n",
    "            create_class(m,fout)\n",
    "print(\"done\")\n",
    "fout.close()"
   ]
  },
  {
   "cell_type": "code",
   "execution_count": 7,
   "metadata": {},
   "outputs": [],
   "source": [
    "fout = open(filenameoutput, \"a\")\n",
    "make_ops_class(opdir,fout)\n",
    "fout.close()"
   ]
  },
  {
   "cell_type": "code",
   "execution_count": null,
   "metadata": {},
   "outputs": [],
   "source": []
  }
 ],
 "metadata": {
  "kernelspec": {
   "display_name": "Python 3",
   "language": "python",
   "name": "python3"
  },
  "language_info": {
   "codemirror_mode": {
    "name": "ipython",
    "version": 3
   },
   "file_extension": ".py",
   "mimetype": "text/x-python",
   "name": "python",
   "nbconvert_exporter": "python",
   "pygments_lexer": "ipython3",
   "version": "3.6.8"
  }
 },
 "nbformat": 4,
 "nbformat_minor": 2
}
